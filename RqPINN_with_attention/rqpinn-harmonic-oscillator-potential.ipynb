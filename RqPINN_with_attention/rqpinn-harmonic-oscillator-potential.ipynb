{
 "cells": [
  {
   "cell_type": "markdown",
   "metadata": {},
   "source": [
    "Consider the problem defined as:\n",
    "\n",
    "\\begin{equation}\n",
    "-\\frac{\\hbar^2}{2m} \\frac{d^2  \\psi}{dx^2}  + V(x) \\psi =  E \\psi\n",
    "\\end{equation}\n",
    "\n",
    "where\n",
    "\n",
    "*   $\\hbar $ is the reduced Planck's constant\n",
    "*   $m$ is the mass of particle\n",
    "*  $\\psi $ is the wavefunction (representing the eigenfunction/ eigenstate)\n",
    "* $V(x) $ is the potential energy of the particle at any point $x$,\n",
    "defined as\n",
    "\\begin{equation}\n",
    "    V(x) = \\frac{1}{2}m\\omega^2x^2\n",
    "\\end{equation}\n",
    "* $E$ is the energy of the particle (representing the eigenvalue of the equation)\n",
    "\n",
    "Taking $l = 10$, $\\hbar = 1, m = 1 $ and $\\omega = 1$"
   ]
  },
  {
   "cell_type": "code",
   "execution_count": 1,
   "metadata": {
    "_cell_guid": "b1076dfc-b9ad-4769-8c92-a6c4dae69d19",
    "_uuid": "8f2839f25d086af736a60e9eeb907d3b93b6e0e5"
   },
   "outputs": [
    {
     "name": "stdout",
     "output_type": "stream",
     "text": [
      "cuda\n",
      "NVIDIA RTX A6000\n"
     ]
    }
   ],
   "source": [
    "#Importing the required libraries\n",
    "import numpy as np\n",
    "import matplotlib.pyplot as plt\n",
    "import torch\n",
    "from torch.autograd import grad\n",
    "import torch.nn as nn\n",
    "import torch.optim as optim     #optimizer\n",
    "import time\n",
    "import copy\n",
    "from torch.optim.lr_scheduler import CosineAnnealingLR\n",
    "\n",
    "torch.manual_seed(1234)\n",
    "\n",
    "np.random.seed(1234)\n",
    "\n",
    "#Device configuration\n",
    "device = torch.device('cuda' if torch.cuda.is_available() else 'cpu')\n",
    "\n",
    "print(device)\n",
    "\n",
    "if device.type == 'cuda':\n",
    "  print(torch.cuda.get_device_name(0))\n",
    "\n",
    "#!pip install pyDOE\n",
    "from pyDOE import lhs #latin hypercube sampling"
   ]
  },
  {
   "cell_type": "code",
   "execution_count": 2,
   "metadata": {},
   "outputs": [],
   "source": [
    "#The sine activation function\n",
    "class sine(torch.nn.Module):\n",
    "  @staticmethod\n",
    "  def forward(input):\n",
    "    return torch.sin(input)\n",
    "\n",
    "#Automatic differentiation in pytorch\n",
    "def dfx(f, x):\n",
    "  grads = []\n",
    "  for i in range(f.shape[1]):  # Loop over each column\n",
    "      gouts = torch.zeros_like(f)\n",
    "      gouts[:, i] = 1.0  # Differentiate w.r.t. one column at a time\n",
    "      df_i = grad([f], [x], grad_outputs=gouts, create_graph=True)[0]\n",
    "      grads.append(df_i)  # Collect gradients for each column\n",
    "\n",
    "  return torch.stack(grads, dim=-1)"
   ]
  },
  {
   "cell_type": "code",
   "execution_count": 3,
   "metadata": {},
   "outputs": [],
   "source": [
    "#Defining the hyperparameters\n",
    "t0 =-5; tf = 5; xbc = 0; eig_num = 5; gauss_num = 20 #Guess_num = 20 for the other pre_trainer\n",
    "col_pts = 200 ;  layers = [1,512,512,256,256,128,gauss_num] #This is layer structure for the pretrained model\n",
    "epochs =10000"
   ]
  },
  {
   "cell_type": "code",
   "execution_count": 4,
   "metadata": {},
   "outputs": [],
   "source": [
    "#Defining the Parametric Solution\n",
    "#This enforces the solution on the boundaries\n",
    "def parametricSolutions(t,nn,t0,tf, bound):\n",
    "  N1 = nn(t)\n",
    "  f = ((1-torch.exp(-(t - t0)))*(1-torch.exp(t - tf))).view(-1,1)\n",
    "  psi_hat = bound + f*N1 #Broadcasting is done here\n",
    "  return psi_hat"
   ]
  },
  {
   "cell_type": "code",
   "execution_count": 5,
   "metadata": {},
   "outputs": [],
   "source": [
    "def hamEqs_Loss(t,psi,v):\n",
    "    psi_x = dfx(psi,t).squeeze(1)\n",
    "    psi_xx = dfx(psi_x,t).squeeze(1)\n",
    "    E  = torch.sum(psi* (-0.5*psi_xx + psi*v), dim = 0)/torch.sum(psi * psi, dim = 0) #The eigenvalues\n",
    "    L = (psi_xx) + (E-v)*psi\n",
    "    return L,E"
   ]
  },
  {
   "cell_type": "code",
   "execution_count": 6,
   "metadata": {},
   "outputs": [
    {
     "data": {
      "image/png": "[encoded data removed]",
      "text/plain": [
       "<Figure size 640x480 with 1 Axes>"
      ]
     },
     "metadata": {},
     "output_type": "display_data"
    }
   ],
   "source": [
    "#Defining the potential well\n",
    "def V(x):\n",
    "    y = 0.5*x**2\n",
    "    return y\n",
    "x = torch.linspace(t0,tf,10).view(-1,1)\n",
    "pot = V(x)\n",
    "#scaled_pot = V_norm(x)\n",
    "\n",
    "plt.plot(x,pot, label='V')\n",
    "#plt.plot(x,scaled_pot, label='V_norm')\n",
    "plt.legend()\n",
    "plt.show()"
   ]
  },
  {
   "cell_type": "code",
   "execution_count": 7,
   "metadata": {},
   "outputs": [],
   "source": [
    "#Defining the Frobenius norm\n",
    "def frobenius_norm(G):\n",
    "  I = torch.eye(G.shape[0], device = device, dtype = G.dtype)\n",
    "  loss = torch.linalg.matrix_norm(G - I) #The frobenius norm\n",
    "  return loss\n",
    "\n",
    "#Defining the monotonicity_penalty\n",
    "def monotonicity_penalty(E, margin = 0.0):\n",
    "  diffs = E[:-1] - E[1:] + margin\n",
    "  penalty = torch.relu(diffs).sum()\n",
    "  return penalty\n",
    "\n",
    "#Defining the cosine matrix using trapezoidal rule\n",
    "def cosine_matrix(psi,x):\n",
    "  x = x.squeeze(-1) #Remove the extra dimension\n",
    "  x_sorted, indices = torch.sort(x, dim=0)\n",
    "  psi_sorted = psi[indices, :]  # Reorder psi to match x\n",
    "  psi_norm = torch.sqrt(torch.trapz(psi_sorted**2, x_sorted, dim=0))  # (k,)\n",
    "  psi_normalized = psi_sorted / psi_norm  # (n, k)\n",
    "  psi_prod = psi_normalized.unsqueeze(2) * psi_normalized.unsqueeze(1)  # (n, k, k)\n",
    "  cos_matrix = torch.trapz(psi_prod, x_sorted, dim=0)\n",
    "  return cos_matrix"
   ]
  },
  {
   "cell_type": "code",
   "execution_count": 8,
   "metadata": {},
   "outputs": [],
   "source": [
    "class pre_trainerclass(torch.nn.Module):\n",
    "  def __init__(self,layers):\n",
    "    super(pre_trainerclass,self).__init__()\n",
    "    self.activation = sine()\n",
    "\n",
    "    #Defining the Layers\n",
    "    self.linears = nn.ModuleList([nn.Linear(layers[i], layers[i+1]) for i in range(len(layers) - 1)])\n",
    "\n",
    "    #Initializing the weights\n",
    "    #self.apply(weights_init)\n",
    "    for i in range(len(layers)-1):\n",
    "      nn.init.xavier_normal_(self.linears[i].weight.data, gain=1.0)\n",
    "      nn.init.zeros_(self.linears[i].bias.data)\n",
    "\n",
    "\n",
    "  #Defining the forward pass\n",
    "  def forward(self,x):\n",
    "    if torch.is_tensor(x) != True:\n",
    "      x = torch.from_numpy(x)\n",
    "    a = x.float()\n",
    "    #In1 = self.ein(torch.ones_like(a))\n",
    "    for i in range(len(self.linears)-1):\n",
    "      z = self.linears[i](a)\n",
    "      #z = self.batch_norms[i](z)\n",
    "      a = self.activation(z)\n",
    "\n",
    "    a = self.linears[-1](a)\n",
    "    return a"
   ]
  },
  {
   "cell_type": "code",
   "execution_count": 9,
   "metadata": {},
   "outputs": [],
   "source": [
    "# Freeze for feature extraction, or fine-tune\n",
    "class transferred_model(nn.Module):\n",
    "    def __init__(self, pretrained_model):\n",
    "        super().__init__()\n",
    "        self.activation = sine()\n",
    "        self.features_list = nn.ModuleList(pretrained_model.linears[:-1])  # all layers except last\n",
    "        self.new_head1 = nn.Linear(128, 64)\n",
    "        self.new_head2 = nn.Linear(64, eig_num)\n",
    "\n",
    "        #Freeze pretrained model weights\n",
    "        for param in self.features_list.parameters():\n",
    "            param.requires_grad = False\n",
    "\n",
    "    def forward(self, t):\n",
    "        for layer in self.features_list:\n",
    "            t = self.activation(layer(t))\n",
    "        a1 = self.new_head1(self.activation(t))\n",
    "        return self.new_head2(a1)\n"
   ]
  },
  {
   "cell_type": "markdown",
   "metadata": {},
   "source": [
    "##### Now we need to load the trained model weights for transfer learning then train for our problem"
   ]
  },
  {
   "cell_type": "code",
   "execution_count": 10,
   "metadata": {},
   "outputs": [],
   "source": [
    "gaussian_model = pre_trainerclass(layers) #holder to initialize the pre-trained model weights\n",
    "\n",
    "#The checkpoint\n",
    "checkpoint = torch.load('checkpoints/pre_trainer_no_ortho.pth', map_location=torch.device('cuda'))\n",
    "\n",
    "gaussian_model.load_state_dict(checkpoint['model_state_dict'])  #Load the weights into the holder\n",
    "#gaussian_model.eval() #Set to evaluation\n",
    "transfer_model = transferred_model(gaussian_model) #Transfer the model"
   ]
  },
  {
   "cell_type": "markdown",
   "metadata": {},
   "source": [
    "#### Learning Rate Finder\n",
    "We will find the best learning rate to start with"
   ]
  },
  {
   "cell_type": "code",
   "execution_count": 11,
   "metadata": {},
   "outputs": [],
   "source": [
    "#We want to find the best lr for our defined model\n",
    "model_lr = transfer_model.to(device)\n",
    "optimizer_lr = optim.Adam(model_lr.parameters(), lr=1e-7)"
   ]
  },
  {
   "cell_type": "code",
   "execution_count": 12,
   "metadata": {},
   "outputs": [],
   "source": [
    "def common_train_step(NN,t0,tf,xbc,t_rand):\n",
    "    vx = V(t_rand)\n",
    "    #Getting the parametric solution\n",
    "    psi =parametricSolutions(t_rand,NN,t0,tf,xbc).to(device) #The forward pass\n",
    "    L,E = hamEqs_Loss(t_rand,psi,vx)\n",
    "    Loss = torch.nn.MSELoss()\n",
    "    #Getting the losses after each forward pass\n",
    "    #We can also add the monotonicty loss\n",
    "    pde_loss = Loss(L,torch.zeros_like(L))  #The scaled pde_loss\n",
    "    G = cosine_matrix(psi, t_rand)\n",
    "    cosine_loss = frobenius_norm(G)\n",
    "    return pde_loss, cosine_loss, E"
   ]
  },
  {
   "cell_type": "code",
   "execution_count": 13,
   "metadata": {},
   "outputs": [
    {
     "data": {
      "image/png": "[encoded data removed]",
      "text/plain": [
       "<Figure size 640x480 with 1 Axes>"
      ]
     },
     "metadata": {},
     "output_type": "display_data"
    }
   ],
   "source": [
    "# Set up variables\n",
    "x_lhs = torch.tensor(t0 + (tf - t0)*lhs(1,col_pts)).view(-1,1).to(device).float()\n",
    "x_lhs.requires_grad =True\n",
    "losses = []\n",
    "lrs = []\n",
    "\n",
    "start_lr = 1e-7\n",
    "end_lr = 1e-1\n",
    "num_iter = 100\n",
    "lr_mult = (end_lr / start_lr) ** (1/num_iter)\n",
    "\n",
    "lr = start_lr\n",
    "\n",
    "for iteration in range(num_iter):\n",
    "    optimizer_lr.param_groups[0]['lr'] = lr\n",
    "\n",
    "    optimizer_lr.zero_grad()\n",
    "    pde_loss,cosine_loss, _ = common_train_step(model_lr,t0,tf,xbc,x_lhs)\n",
    "    loss = pde_loss + 10*cosine_loss\n",
    "    loss.backward()\n",
    "\n",
    "    optimizer_lr.step()\n",
    "\n",
    "    lrs.append(lr)\n",
    "    losses.append(loss.item())\n",
    "\n",
    "    lr *= lr_mult  # increase learning rate exponentially\n",
    "\n",
    "# Plot the result\n",
    "plt.plot(lrs, losses)\n",
    "plt.xscale('log')\n",
    "plt.xlabel('Learning Rate')\n",
    "plt.ylabel('Loss')\n",
    "plt.title('LR Range Test')\n",
    "plt.show()"
   ]
  },
  {
   "cell_type": "markdown",
   "metadata": {},
   "source": [
    "It is important to note that the lr finder plot will change with different weights for the losses, so we should update accordingly"
   ]
  },
  {
   "cell_type": "markdown",
   "metadata": {},
   "source": [
    "#### Training"
   ]
  },
  {
   "cell_type": "code",
   "execution_count": 14,
   "metadata": {},
   "outputs": [
    {
     "name": "stdout",
     "output_type": "stream",
     "text": [
      "transferred_model(\n",
      "  (activation): sine()\n",
      "  (features_list): ModuleList(\n",
      "    (0): Linear(in_features=1, out_features=512, bias=True)\n",
      "    (1): Linear(in_features=512, out_features=512, bias=True)\n",
      "    (2): Linear(in_features=512, out_features=256, bias=True)\n",
      "    (3): Linear(in_features=256, out_features=256, bias=True)\n",
      "    (4): Linear(in_features=256, out_features=128, bias=True)\n",
      "  )\n",
      "  (new_head1): Linear(in_features=128, out_features=64, bias=True)\n",
      "  (new_head2): Linear(in_features=64, out_features=5, bias=True)\n",
      ")\n"
     ]
    }
   ],
   "source": [
    "#Now we initialize the model without freezing the pretrained weights\n",
    "transfer_model.to(device)\n",
    "print(transfer_model)\n",
    "optimizer = optim.Adam(transfer_model.parameters(), lr=1e-5)\n",
    "scheduler = CosineAnnealingLR(optimizer, T_max=epochs, eta_min=1e-7)"
   ]
  },
  {
   "cell_type": "code",
   "execution_count": 15,
   "metadata": {},
   "outputs": [],
   "source": [
    "def nn_train(NN,t0,tf,xbc,epochs,t):\n",
    "  En_history = [] #To store the eigenvalues as it is optimized\n",
    "  loss_keys = ['pde_loss_hist','cos_loss_hist','total_loss_hist']\n",
    "  loss_dic = {key: [] for key in loss_keys} #To store the losses\n",
    "  #t_rand = t[torch.randperm(t.shape[0])].to(device).float() #Reshuffling the collocation points\n",
    "  t_rand = t.to(device).float()\n",
    "  t_rand.requires_grad =True\n",
    "\n",
    "  #Dictionary to store the final training\n",
    "  dic = {}\n",
    "\n",
    "  stime = time.time()\n",
    "  for iter in range(epochs + 1):\n",
    "    optimizer.zero_grad()\n",
    "  \n",
    "    criteria_loss,cosine_loss,En = common_train_step(NN,t0,tf,xbc,t_rand)\n",
    "    total_loss = criteria_loss + 10.0*cosine_loss\n",
    "    \n",
    "    En_history.append(En.cpu().detach().numpy())\n",
    "    \n",
    "    loss_dic['pde_loss_hist'].append(criteria_loss.cpu().detach().numpy().item())\n",
    "\n",
    "    loss_dic['cos_loss_hist'].append(cosine_loss.cpu().detach().numpy().item())\n",
    "\n",
    "\n",
    "    if iter % 200 == 0:\n",
    "      print('--------------------------------------------')\n",
    "      print(f'Epoch: {iter}')\n",
    "      print(f'En: {En_history[-1]}')\n",
    "      print('--------------------------------------------')\n",
    "      print('Total_loss: ',total_loss.item())\n",
    "      print('pde_loss: ',criteria_loss.item())\n",
    "      print('cos_loss: ',cosine_loss.item())\n",
    "      \n",
    "\n",
    "\n",
    "\n",
    "    #Backward propagation\n",
    "    total_loss.backward()\n",
    "    #Introducing Gradient clipping\n",
    "    #max_norm =12.0\n",
    "    #torch.nn.utils.clip_grad_norm_(NN.parameters(), max_norm)\n",
    "    optimizer.step()\n",
    "    scheduler.step()\n",
    "\n",
    "    #Storing the loss after each iteration\n",
    "\n",
    "    loss_dic['total_loss_hist'].append(total_loss.cpu().detach().numpy())\n",
    "\n",
    "\n",
    "  #Storing the final eigenfunction and eigenvalue\n",
    "  dic[1] = copy.deepcopy(NN)\n",
    "\n",
    "\n",
    "  ftime = time.time()\n",
    "  ttime = (ftime - stime)/60\n",
    "  print(f'Total training time is {ttime} minutes')\n",
    "  return loss_dic, np.array(En_history), dic"
   ]
  },
  {
   "cell_type": "code",
   "execution_count": 16,
   "metadata": {},
   "outputs": [
    {
     "data": {
      "text/plain": [
       "torch.Size([200, 1])"
      ]
     },
     "execution_count": 16,
     "metadata": {},
     "output_type": "execute_result"
    }
   ],
   "source": [
    "x_lhs = torch.tensor(t0 + (tf - t0)*lhs(1,col_pts)).view(-1,1).float()\n",
    "x_lhs.shape"
   ]
  },
  {
   "cell_type": "code",
   "execution_count": null,
   "metadata": {},
   "outputs": [
    {
     "name": "stdout",
     "output_type": "stream",
     "text": [
      "--------------------------------------------\n",
      "Epoch: 0\n",
      "En: [2.3285315 3.234971  2.4655056 5.355111  2.8507993]\n",
      "--------------------------------------------\n",
      "Total_loss:  56.048553466796875\n",
      "pde_loss:  20.025217056274414\n",
      "cos_loss:  3.6023335456848145\n",
      "--------------------------------------------\n",
      "Epoch: 200\n",
      "En: [1.956528  3.2854927 2.9012625 7.2523165 2.692545 ]\n",
      "--------------------------------------------\n",
      "Total_loss:  37.3349494934082\n",
      "pde_loss:  11.400043487548828\n",
      "cos_loss:  2.5934906005859375\n",
      "--------------------------------------------\n",
      "Epoch: 400\n",
      "En: [1.634358  3.2761266 5.8024673 7.055215  2.4758317]\n",
      "--------------------------------------------\n",
      "Total_loss:  24.530738830566406\n",
      "pde_loss:  6.732361316680908\n",
      "cos_loss:  1.7798378467559814\n",
      "--------------------------------------------\n",
      "Epoch: 600\n",
      "En: [1.773436  3.3067029 5.436542  7.1187024 2.2659438]\n",
      "--------------------------------------------\n",
      "Total_loss:  21.56801986694336\n",
      "pde_loss:  4.878231525421143\n",
      "cos_loss:  1.6689789295196533\n",
      "--------------------------------------------\n",
      "Epoch: 800\n",
      "En: [1.9028158 3.7718787 5.1408525 6.8925924 2.111095 ]\n",
      "--------------------------------------------\n",
      "Total_loss:  18.455644607543945\n",
      "pde_loss:  3.447399377822876\n",
      "cos_loss:  1.5008244514465332\n",
      "--------------------------------------------\n",
      "Epoch: 1000\n",
      "En: [1.9981935 5.843218  4.66283   6.058359  2.1295414]\n",
      "--------------------------------------------\n",
      "Total_loss:  13.664466857910156\n",
      "pde_loss:  2.574502468109131\n",
      "cos_loss:  1.1089963912963867\n",
      "--------------------------------------------\n",
      "Epoch: 1200\n",
      "En: [1.9581108 6.321282  4.656785  6.4398546 2.1386333]\n",
      "--------------------------------------------\n",
      "Total_loss:  10.493147850036621\n",
      "pde_loss:  1.8937159776687622\n",
      "cos_loss:  0.859943151473999\n",
      "--------------------------------------------\n",
      "Epoch: 1400\n",
      "En: [1.8716966 5.827932  5.3075466 6.7174077 2.1494067]\n",
      "--------------------------------------------\n",
      "Total_loss:  2.0220718383789062\n",
      "pde_loss:  1.3466335535049438\n",
      "cos_loss:  0.06754383444786072\n",
      "--------------------------------------------\n",
      "Epoch: 1600\n",
      "En: [1.8655783 5.6884894 5.3507547 6.632828  2.039816 ]\n",
      "--------------------------------------------\n",
      "Total_loss:  1.1792914867401123\n",
      "pde_loss:  1.1377331018447876\n",
      "cos_loss:  0.004155843984335661\n",
      "--------------------------------------------\n",
      "Epoch: 1800\n",
      "En: [1.8641423 5.5435543 5.3509073 6.576327  2.0145457]\n",
      "--------------------------------------------\n",
      "Total_loss:  1.0656856298446655\n",
      "pde_loss:  1.0323699712753296\n",
      "cos_loss:  0.0033315669279545546\n",
      "--------------------------------------------\n",
      "Epoch: 2000\n",
      "En: [1.8630856 5.4048796 5.3521547 6.53086   1.9955351]\n",
      "--------------------------------------------\n",
      "Total_loss:  0.9878057837486267\n",
      "pde_loss:  0.9516605138778687\n",
      "cos_loss:  0.003614524845033884\n",
      "--------------------------------------------\n",
      "Epoch: 2200\n",
      "En: [1.8619742 5.2863517 5.3538404 6.497084  1.9806541]\n",
      "--------------------------------------------\n",
      "Total_loss:  0.9673860669136047\n",
      "pde_loss:  0.8874571919441223\n",
      "cos_loss:  0.007992886938154697\n",
      "--------------------------------------------\n",
      "Epoch: 2400\n",
      "En: [1.8608884 5.1732907 5.356692  6.45296   1.9683152]\n",
      "--------------------------------------------\n",
      "Total_loss:  0.87883460521698\n",
      "pde_loss:  0.8353123068809509\n",
      "cos_loss:  0.004352227319031954\n",
      "--------------------------------------------\n",
      "Epoch: 2600\n",
      "En: [1.8597587 5.0815406 5.358843  6.4263253 1.9585901]\n",
      "--------------------------------------------\n",
      "Total_loss:  0.8143181800842285\n",
      "pde_loss:  0.7914791107177734\n",
      "cos_loss:  0.0022839074954390526\n",
      "--------------------------------------------\n",
      "Epoch: 2800\n",
      "En: [1.8585296 4.996181  5.3609457 6.4104233 1.9506453]\n",
      "--------------------------------------------\n",
      "Total_loss:  0.8003943562507629\n",
      "pde_loss:  0.7544939517974854\n",
      "cos_loss:  0.0045900424011051655\n",
      "--------------------------------------------\n",
      "Epoch: 3000\n",
      "En: [1.8572472 4.9156833 5.363045  6.388534  1.9441733]\n",
      "--------------------------------------------\n",
      "Total_loss:  0.7811945676803589\n",
      "pde_loss:  0.7221580147743225\n",
      "cos_loss:  0.005903653334826231\n",
      "--------------------------------------------\n",
      "Epoch: 3200\n",
      "En: [1.8559073 4.8379173 5.3659286 6.358363  1.93868  ]\n",
      "--------------------------------------------\n",
      "Total_loss:  0.7292895317077637\n",
      "pde_loss:  0.6943961381912231\n",
      "cos_loss:  0.0034893378615379333\n",
      "--------------------------------------------\n",
      "Epoch: 3400\n",
      "En: [1.8545674 4.7695847 5.36788   6.340658  1.9345362]\n",
      "--------------------------------------------\n",
      "Total_loss:  0.7062987089157104\n",
      "pde_loss:  0.6699195504188538\n",
      "cos_loss:  0.003637917572632432\n",
      "--------------------------------------------\n",
      "Epoch: 3600\n",
      "En: [1.8532039 4.704504  5.3694487 6.3291817 1.9312406]\n",
      "--------------------------------------------\n",
      "Total_loss:  0.6660348773002625\n",
      "pde_loss:  0.6486549377441406\n",
      "cos_loss:  0.0017379947239533067\n",
      "--------------------------------------------\n",
      "Epoch: 3800\n",
      "En: [1.8517908 4.646272  5.370909  6.3218946 1.9286528]\n",
      "--------------------------------------------\n",
      "Total_loss:  0.6749675273895264\n",
      "pde_loss:  0.629357099533081\n",
      "cos_loss:  0.004561040550470352\n",
      "--------------------------------------------\n",
      "Epoch: 4000\n",
      "En: [1.8504721 4.587698  5.3726377 6.3049717 1.9265305]\n",
      "--------------------------------------------\n",
      "Total_loss:  0.6260138154029846\n",
      "pde_loss:  0.6123761534690857\n",
      "cos_loss:  0.0013637639349326491\n",
      "--------------------------------------------\n",
      "Epoch: 4200\n",
      "En: [1.8491552 4.5371137 5.374078  6.290108  1.9250118]\n",
      "--------------------------------------------\n",
      "Total_loss:  0.6170775294303894\n",
      "pde_loss:  0.5971161723136902\n",
      "cos_loss:  0.0019961344078183174\n",
      "--------------------------------------------\n",
      "Epoch: 4400\n",
      "En: [1.847846  4.48647   5.3753357 6.281009  1.9238769]\n",
      "--------------------------------------------\n",
      "Total_loss:  0.6169782876968384\n",
      "pde_loss:  0.5837148427963257\n",
      "cos_loss:  0.0033263463992625475\n",
      "--------------------------------------------\n",
      "Epoch: 4600\n",
      "En: [1.8465778 4.4434824 5.376041  6.276624  1.9231701]\n",
      "--------------------------------------------\n",
      "Total_loss:  0.6126623153686523\n",
      "pde_loss:  0.5711802244186401\n",
      "cos_loss:  0.0041482094675302505\n"
     ]
    }
   ],
   "source": [
    "Loss, eig_vals, qPINN = nn_train(transfer_model,t0,tf,xbc,epochs, x_lhs)"
   ]
  },
  {
   "cell_type": "code",
   "execution_count": null,
   "metadata": {},
   "outputs": [],
   "source": [
    "tTest = torch.linspace(t0,tf,1200).view(-1,1)\n",
    "tTest.requires_grad=True\n",
    "t_net = tTest.detach().numpy()\n",
    "\n",
    "psi = parametricSolutions(tTest,qPINN[1].cpu(),t0,tf,xbc).data.numpy()"
   ]
  },
  {
   "cell_type": "code",
   "execution_count": null,
   "metadata": {},
   "outputs": [],
   "source": [
    "#Defining the number of rows and columns for the subplot grid\n",
    "num_rows = 2\n",
    "num_cols = 3\n",
    "\n",
    "# Calculating the total number of subplots needed\n",
    "total_subplots = eig_vals[-1].shape[0]\n",
    "\n",
    "# Creating a figure and axes for the subplots\n",
    "fig, axes = plt.subplots(num_rows, num_cols, figsize=(15, 12))\n",
    "\n",
    "# Iterating over eigenvalues and corresponding solutions\n",
    "for index, eig in enumerate(eig_vals[-1,:total_subplots]):\n",
    "    row_index = index // num_cols  # row index\n",
    "    col_index = index % num_cols   # column index\n",
    "\n",
    "    # Plot on the corresponding subplot\n",
    "    #psi_i = psi[index] + En_counter[index]\n",
    "    ax = axes[row_index, col_index]\n",
    "    max_val = abs(max(psi[:,index]))\n",
    "    ax.plot(t_net, psi[:,index]/max_val, color='blue', linewidth=1, label=f'PINN with eigenvalue {eig_vals[-1,index]:.5f}')\n",
    "    #ax.plot(t_net, V(torch.tensor(t_net)))\n",
    "    #ax.plot(t_net, np.zeros(len(t_net)),'--k', linewidth=1)\n",
    "    ax.set_xlabel('x', color='black')\n",
    "    ax.set_ylabel('$\\psi(x)$', color='black')\n",
    "    ax.tick_params(axis='y', color='black')\n",
    "    ax.legend(loc = 'upper left')\n",
    "\n",
    "# Hiding the unused subplot\n",
    "if total_subplots < num_rows * num_cols:\n",
    "    for i in range(total_subplots, num_rows * num_cols):\n",
    "        fig.delaxes(axes.flat[i])\n",
    "# Adjusting layout to prevent overlap\n",
    "plt.tight_layout()\n",
    "\n",
    "plt.show()"
   ]
  },
  {
   "cell_type": "code",
   "execution_count": null,
   "metadata": {},
   "outputs": [],
   "source": [
    "G = psi.T @ psi\n",
    "G"
   ]
  },
  {
   "cell_type": "markdown",
   "metadata": {},
   "source": [
    "## Transfering with freezing pre-trainer parameters"
   ]
  },
  {
   "cell_type": "code",
   "execution_count": null,
   "metadata": {},
   "outputs": [],
   "source": []
  }
 ],
 "metadata": {
  "kaggle": {
   "accelerator": "none",
   "dataSources": [],
   "dockerImageVersionId": 30919,
   "isGpuEnabled": false,
   "isInternetEnabled": true,
   "language": "python",
   "sourceType": "notebook"
  },
  "kernelspec": {
   "display_name": "venv",
   "language": "python",
   "name": "python3"
  },
  "language_info": {
   "codemirror_mode": {
    "name": "ipython",
    "version": 3
   },
   "file_extension": ".py",
   "mimetype": "text/x-python",
   "name": "python",
   "nbconvert_exporter": "python",
   "pygments_lexer": "ipython3",
   "version": "3.13.3"
  }
 },
 "nbformat": 4,
 "nbformat_minor": 4
}
