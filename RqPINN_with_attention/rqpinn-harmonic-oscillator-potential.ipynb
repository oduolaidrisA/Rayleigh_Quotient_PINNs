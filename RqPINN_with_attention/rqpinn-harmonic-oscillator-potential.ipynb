{
 "cells": [
  {
   "cell_type": "markdown",
   "metadata": {},
   "source": [
    "Consider the problem defined as:\n",
    "\n",
    "\\begin{equation}\n",
    "-\\frac{\\hbar^2}{2m} \\frac{d^2  \\psi}{dx^2}  + V(x) \\psi =  E \\psi\n",
    "\\end{equation}\n",
    "\n",
    "where\n",
    "\n",
    "*   $\\hbar $ is the reduced Planck's constant\n",
    "*   $m$ is the mass of particle\n",
    "*  $\\psi $ is the wavefunction (representing the eigenfunction/ eigenstate)\n",
    "* $V(x) $ is the potential energy of the particle at any point $x$,\n",
    "defined as\n",
    "\\begin{equation}\n",
    "    V(x) = \\frac{1}{2}m\\omega^2x^2\n",
    "\\end{equation}\n",
    "* $E$ is the energy of the particle (representing the eigenvalue of the equation)\n",
    "\n",
    "Taking $l = 10$, $\\hbar = 1, m = 1 $ and $\\omega = 1$"
   ]
  },
  {
   "cell_type": "code",
   "execution_count": 1,
   "metadata": {},
   "outputs": [
    {
     "name": "stdout",
     "output_type": "stream",
     "text": [
      "cuda\n"
     ]
    }
   ],
   "source": [
    "import torch\n",
    "device = torch.device('cuda' if torch.cuda.is_available() else 'cpu')\n",
    "\n",
    "print(device)"
   ]
  },
  {
   "cell_type": "code",
   "execution_count": 258,
   "metadata": {},
   "outputs": [
    {
     "name": "stdout",
     "output_type": "stream",
     "text": [
      "NVIDIA RTX A6000\n"
     ]
    }
   ],
   "source": [
    "print(torch.cuda.get_device_name(0))"
   ]
  },
  {
   "cell_type": "code",
   "execution_count": 2,
   "metadata": {
    "_cell_guid": "b1076dfc-b9ad-4769-8c92-a6c4dae69d19",
    "_uuid": "8f2839f25d086af736a60e9eeb907d3b93b6e0e5"
   },
   "outputs": [
    {
     "name": "stdout",
     "output_type": "stream",
     "text": [
      "cuda\n"
     ]
    }
   ],
   "source": [
    "#Importing the required libraries\n",
    "import numpy as np\n",
    "import matplotlib.pyplot as plt\n",
    "import torch\n",
    "from torch.autograd import grad\n",
    "from torch import Tensor\n",
    "import torch.nn as nn\n",
    "import torch.optim as optim     #optimizer\n",
    "import time\n",
    "import copy\n",
    "import pandas as pd  #for the moving average\n",
    "\n",
    "torch.manual_seed(1234)\n",
    "\n",
    "np.random.seed(1234)\n",
    "\n",
    "#Device configuration\n",
    "device = torch.device('cuda' if torch.cuda.is_available() else 'cpu')\n",
    "\n",
    "print(device)\n",
    "\n",
    "if device == 'cuda':\n",
    "  print(torch.cuda.get_device_name(0))\n",
    "\n",
    "#!pip install pyDOE\n",
    "from pyDOE import lhs #latin hypercube sampling"
   ]
  },
  {
   "cell_type": "code",
   "execution_count": 3,
   "metadata": {},
   "outputs": [],
   "source": [
    "#The sine activation function\n",
    "class sine(torch.nn.Module):\n",
    "  @staticmethod\n",
    "  def forward(input):\n",
    "    return torch.sin(input)\n",
    "\n",
    "#Automatic differentiation in pytorch\n",
    "def dfx(f, x):\n",
    "  grads = []\n",
    "  for i in range(f.shape[1]):  # Loop over each column\n",
    "      gouts = torch.zeros_like(f)\n",
    "      gouts[:, i] = 1.0  # Differentiate w.r.t. one column at a time\n",
    "      df_i = grad([f], [x], grad_outputs=gouts, create_graph=True)[0]\n",
    "      grads.append(df_i)  # Collect gradients for each column\n",
    "\n",
    "  return torch.stack(grads, dim=-1)"
   ]
  },
  {
   "cell_type": "code",
   "execution_count": 15,
   "metadata": {},
   "outputs": [],
   "source": [
    "#Defining the hyperparameters\n",
    "t0 =-3; tf = 3; xbc = 0; eig_num = 3\n",
    "col_pts = 1000; layers = [1,100,100,eig_num]; lr = 1e-2; epochs =10000"
   ]
  },
  {
   "cell_type": "code",
   "execution_count": 16,
   "metadata": {},
   "outputs": [],
   "source": [
    "#Defining the Parametric Solution\n",
    "#This enforces the solution on the boundaries\n",
    "def parametricSolutions(t,nn,t0,tf, bound):\n",
    "  N1 = nn(t)\n",
    "  f = ((1-torch.exp(-(t - t0)))*(1-torch.exp(t - tf))).view(-1,1)\n",
    "  psi_hat = bound + f*N1 #Broadcasting is done here\n",
    "  return psi_hat"
   ]
  },
  {
   "cell_type": "code",
   "execution_count": 17,
   "metadata": {},
   "outputs": [],
   "source": [
    "def hamEqs_Loss(t,psi,v):\n",
    "    psi_x = dfx(psi,t).squeeze(1)\n",
    "    psi_xx = dfx(psi_x,t).squeeze(1)\n",
    "    E  = torch.sum(psi* (-0.5*psi_xx + psi*v), dim = 0)/torch.sum(psi * psi, dim = 0) #The eigenvalues\n",
    "    L = (psi_xx) + (E-v)*psi\n",
    "    return L,E"
   ]
  },
  {
   "cell_type": "code",
   "execution_count": 18,
   "metadata": {},
   "outputs": [
    {
     "data": {
      "image/png": "[encoded data removed]",
      "text/plain": [
       "<Figure size 640x480 with 1 Axes>"
      ]
     },
     "metadata": {},
     "output_type": "display_data"
    }
   ],
   "source": [
    "#Defining the potential well\n",
    "def V(x):\n",
    "    y = 0.5*x**2\n",
    "    return y\n",
    "\n",
    "#Defining the scaled potential Well\n",
    "def V_norm(x):\n",
    "    y = 0.5*x**2\n",
    "    #y = (y - torch.mean(y))/torch.std(pot)\n",
    "    y = y/torch.norm(y)\n",
    "    return y\n",
    "x = torch.linspace(t0,tf,10).view(-1,1)\n",
    "pot = V(x)\n",
    "#scaled_pot = V_norm(x)\n",
    "\n",
    "plt.plot(x,pot, label='V')\n",
    "#plt.plot(x,scaled_pot, label='V_norm')\n",
    "plt.legend()\n",
    "plt.show()"
   ]
  },
  {
   "cell_type": "code",
   "execution_count": 19,
   "metadata": {},
   "outputs": [],
   "source": [
    "#Defining the weights for numerical integration\n",
    "def weights(x):\n",
    "    x = np.sort(x.numpy(), axis = 0)\n",
    "    w = np.zeros_like(x)\n",
    "    w[1:-1] = (x[2:] - x[:-2]) / 2\n",
    "    w[0] = (x[1] - x[0]) / 2\n",
    "    w[-1] = (x[-1] - x[-2]) / 2\n",
    "    x = torch.from_numpy(x)\n",
    "    w = torch.from_numpy(w)\n",
    "    return x,w"
   ]
  },
  {
   "cell_type": "code",
   "execution_count": 20,
   "metadata": {},
   "outputs": [],
   "source": [
    "#Defining the Frobenius norm\n",
    "def frobenius_norm(G):\n",
    "  I = torch.eye(G.shape[0], device = device, dtype = G.dtype)\n",
    "  loss = torch.linalg.matrix_norm(G - I) #The frobenius norm\n",
    "  return loss\n",
    "\n",
    "#Defining the monotonicity_penalty\n",
    "def monotonicity_penalty(E, margin = 0.0):\n",
    "  diffs = E[:-1] - E[1:] + margin\n",
    "  penalty = torch.relu(diffs).sum()\n",
    "  return penalty\n",
    "\n",
    "#Defining the cosine matrix\n",
    "def cosine_matrix(psi):\n",
    "  psi_norm = psi / torch.norm(psi, dim = 0, keepdim = True)\n",
    "  cos_matrix = psi_norm.T @ (psi_norm)\n",
    "  return cos_matrix"
   ]
  },
  {
   "cell_type": "code",
   "execution_count": 21,
   "metadata": {},
   "outputs": [],
   "source": [
    "#Defining the NN architecture without symmetry\n",
    "class qNN(torch.nn.Module):\n",
    "  def __init__(self,layers):\n",
    "    super(qNN,self).__init__()\n",
    "    self.activation = sine()\n",
    "\n",
    "    #Defining the Layers\n",
    "    self.linears = nn.ModuleList([nn.Linear(layers[i], layers[i+1]) for i in range(len(layers) - 1)])\n",
    "\n",
    "    #Initializing the weights\n",
    "    #self.apply(weights_init)\n",
    "    for i in range(len(layers)-1):\n",
    "      nn.init.xavier_normal_(self.linears[i].weight.data, gain=1.0)\n",
    "      nn.init.zeros_(self.linears[i].bias.data)\n",
    "\n",
    "\n",
    "  #Defining the forward pass\n",
    "  def forward(self,x):\n",
    "    if torch.is_tensor(x) != True:\n",
    "      x = torch.from_numpy(x)\n",
    "    a = x.float()\n",
    "    #In1 = self.ein(torch.ones_like(a))\n",
    "    for i in range(len(self.linears)-1):\n",
    "      z = self.linears[i](a)\n",
    "      #z = self.batch_norms[i](z)\n",
    "      a = self.activation(z)\n",
    "\n",
    "    a = self.linears[-1](a)\n",
    "    return a"
   ]
  },
  {
   "cell_type": "code",
   "execution_count": 22,
   "metadata": {},
   "outputs": [],
   "source": [
    "#Defining group equivariant RqPINN\n",
    "class equiRqNN(torch.nn.Module):\n",
    "  def __init__(self,layers):\n",
    "    super(equiRqNN,self).__init__()\n",
    "    self.activation = sine()\n",
    "\n",
    "    #Defining the Layers\n",
    "    self.linears = nn.ModuleList([nn.Linear(layers[i], layers[i+1]) for i in range(len(layers) - 1)])\n",
    "\n",
    "    #Initializing the weights\n",
    "    for i in range(len(layers)-1):\n",
    "      nn.init.xavier_normal_(self.linears[i].weight.data, gain=1.0)\n",
    "      if i ==len(layers)-2:\n",
    "        nn.init.zeros_(self.linears[i].bias.data) #Initializing the bias of the last layer to zeros\n",
    "      else:\n",
    "        nn.init.normal_(self.linears[i].bias.data)\n",
    "\n",
    "\n",
    "  #Defining the forward pass\n",
    "  def forward(self,x):\n",
    "    if torch.is_tensor(x) != True:\n",
    "      x = torch.from_numpy(x).float()\n",
    "    a0 = torch.cat([x,-x], dim=0).view(2,-1,layers[0])\n",
    "    #Implementing equivariance for l = 1\n",
    "    z1 = self.linears[0](a0)\n",
    "    a1 = self.activation(z1)\n",
    "\n",
    "    #Implementing equivariance for 1 < l < L-1\n",
    "    for i in range(1,len(self.linears)-1):\n",
    "      z21 = self.linears[i](a1[0,:,:] - a1[1,:,:])\n",
    "      z22 = self.linears[i](a1[1,:,:] - a1[0,:,:])\n",
    "      z = torch.cat([z21,z22], dim = 0).view(2,-1,layers[i+1])\n",
    "      a1 = self.activation(z)\n",
    "\n",
    "    #Implementing equivariance for l = L\n",
    "    out = self.linears[-1](a1[0,:,:] - a1[1,:,:])\n",
    "    return out"
   ]
  },
  {
   "cell_type": "code",
   "execution_count": 23,
   "metadata": {},
   "outputs": [
    {
     "name": "stdout",
     "output_type": "stream",
     "text": [
      "qNN(\n",
      "  (activation): sine()\n",
      "  (linears): ModuleList(\n",
      "    (0): Linear(in_features=1, out_features=100, bias=True)\n",
      "    (1): Linear(in_features=100, out_features=100, bias=True)\n",
      "    (2): Linear(in_features=100, out_features=3, bias=True)\n",
      "  )\n",
      ")\n"
     ]
    }
   ],
   "source": [
    "model = qNN(layers)\n",
    "model.to(device)\n",
    "print(model)\n",
    "#params = list(model.parameters())\n",
    "betas = [0.999, 0.9999]\n",
    "optimizer = optim.Adam(model.parameters(), lr=lr, betas=betas)"
   ]
  },
  {
   "cell_type": "code",
   "execution_count": null,
   "metadata": {},
   "outputs": [],
   "source": [
    "mus = "
   ]
  },
  {
   "cell_type": "code",
   "execution_count": 40,
   "metadata": {},
   "outputs": [
    {
     "name": "stderr",
     "output_type": "stream",
     "text": [
      "<>:12: SyntaxWarning: invalid escape sequence '\\s'\n",
      "<>:12: SyntaxWarning: invalid escape sequence '\\s'\n",
      "C:\\Users\\idris_oduola\\AppData\\Local\\Temp\\ipykernel_27252\\4022177594.py:12: SyntaxWarning: invalid escape sequence '\\s'\n",
      "  plt.plot(t, target[:,i], label=f\"$mu$ = {mus[i].numpy()}, $\\sigma$ = {sigmas[i].numpy()}\")\n"
     ]
    },
    {
     "data": {
      "image/png": "[encoded data removed]",
      "text/plain": [
       "<Figure size 640x480 with 1 Axes>"
      ]
     },
     "metadata": {},
     "output_type": "display_data"
    }
   ],
   "source": [
    "#The gaussian function\n",
    "def gaussian(t, mus, sigmas):\n",
    "    gaussians = [torch.exp(-((t - mu)**2) / sigma**2) for mu, sigma in zip(mus, sigmas)]\n",
    "    return torch.cat(gaussians, dim=1)  # shape (n, k)\n",
    "\n",
    "t = torch.linspace(-20,20,col_pts).view(-1,1)\n",
    "mus = torch.tensor([-2.0, -1.0, 1.0, 2.0]).view(-1,1)\n",
    "sigmas = torch.tensor([0.5, 0.8, 0.8, 0.5]).view(-1,1)\n",
    "target = gaussian(t, mus, sigmas)  \n",
    "\n",
    "for i in range(mus.shape[0]):\n",
    "    plt.plot(t, target[:,i], label=f\"$mu$ = {mus[i].numpy()}, $\\sigma$ = {sigmas[i].numpy()}\")\n",
    "\n",
    "plt.legend('upper left')\n",
    "plt.show()"
   ]
  },
  {
   "cell_type": "code",
   "execution_count": 38,
   "metadata": {},
   "outputs": [],
   "source": [
    "#Defining the predictor neural network for the gaussian\n",
    "def gauss_train(NN,mus,sigmas, epochs,t):\n",
    "    t_rand = t.to(device).float()\n",
    "    t_rand.requires_grad =True\n",
    "    target = gaussian(t, mus, sigmas)  \n",
    "    stime = time.time()\n",
    "    for iter in range(epochs +1):\n",
    "        optimizer.zero_grad()\n",
    "        loss = 0.0\n",
    "        #Getting the solution\n",
    "        psi = NN(t_rand)\n",
    "        Loss = torch.nn.MSELoss()\n",
    "        loss = Loss(psi,target)\n",
    "        loss.backward()\n",
    "        optimizer.step()\n",
    "\n",
    "        if iter % 100 == 0:\n",
    "            print(f\"Epoch {iter}, Loss: {loss.item():.6f}\")\n",
    "\n",
    "    return NN\n"
   ]
  },
  {
   "cell_type": "code",
   "execution_count": null,
   "metadata": {},
   "outputs": [],
   "source": [
    "# Freeze for feature extraction, or fine-tune\n",
    "class transferred_model(nn.Module):\n",
    "    def __init__(self, pretrained_model):\n",
    "        super().__init__()\n",
    "        self.feature_net = pretrained_model.net[:-1]  # all layers except last\n",
    "        self.new_head = nn.Linear(layers[-2], eig_num)\n",
    "\n",
    "    def forward(self, t):\n",
    "        features = self.feature_net(t)\n",
    "        return self.new_head(features)\n"
   ]
  },
  {
   "cell_type": "code",
   "execution_count": 24,
   "metadata": {},
   "outputs": [],
   "source": [
    "def nn_train(NN,t0,tf,xbc,col_pts,epochs,t):\n",
    "  En_history = [] #To store the eigenvalues as it is optimized\n",
    "  loss_keys = ['pde_loss_hist','cos_loss_hist','total_loss_hist']\n",
    "  loss_dic = {key: [] for key in loss_keys} #To store the losses\n",
    "  #t_rand = t[torch.randperm(t.shape[0])].to(device).float() #Reshuffling the collocation points\n",
    "  t_rand = t.to(device).float()\n",
    "  t_rand.requires_grad =True\n",
    "\n",
    "  #Dictionary to store the final training\n",
    "  dic = {}\n",
    "\n",
    "  stime = time.time()\n",
    "  for iter in range(epochs + 1):\n",
    "    loss = 0.0\n",
    "    vx = V(t_rand)\n",
    "\n",
    "    #Getting the parametric solution\n",
    "    psi =parametricSolutions(t_rand,NN,t0,tf,xbc).to(device) #The forward pass\n",
    "\n",
    "    L,En = hamEqs_Loss(t_rand,psi,vx)\n",
    "    En_history.append(En.cpu().detach().numpy())\n",
    "    Loss = torch.nn.MSELoss()\n",
    "    criteria_loss = 1000*Loss(L,torch.zeros_like(L)) #The scaled pde_loss\n",
    "    #Getting the loss after the forward pass\n",
    "    loss_dic['pde_loss_hist'].append(criteria_loss.cpu().detach().numpy().item())\n",
    "\n",
    "    #The attention or Grams Matrix (actually the cosine matrix)\n",
    "    G = cosine_matrix(psi)\n",
    "    lossG = np.exp(eig_num)*frobenius_norm(G)\n",
    "    loss_dic['cos_loss_hist'].append(lossG.cpu().detach().numpy().item())\n",
    "\n",
    "    #The eigenvalue loss\n",
    "    #loss_eig = monotonicity_penalty(En, 0.1)\n",
    "\n",
    "    total_loss = criteria_loss + lossG #+ loss_eig\n",
    "\n",
    "\n",
    "\n",
    "    if iter % 200 == 0:\n",
    "      print('--------------------------------------------')\n",
    "      print(f'Epoch: {iter}')\n",
    "      print(f'En: {En_history[-1]}')\n",
    "      print('--------------------------------------------')\n",
    "      print('Total_loss: ',total_loss.cpu().detach().numpy())\n",
    "\n",
    "\n",
    "    #Backward propagation\n",
    "    optimizer.zero_grad()\n",
    "    total_loss.backward()\n",
    "    #Introducing Gradient clipping\n",
    "    #max_norm =12.0\n",
    "    #torch.nn.utils.clip_grad_norm_(NN.parameters(), max_norm)\n",
    "    optimizer.step()\n",
    "    loss += total_loss.cpu().detach().numpy()\n",
    "\n",
    "\n",
    "    #Storing the loss after each iteration\n",
    "    loss_dic['total_loss_hist'].append(loss)\n",
    "\n",
    "\n",
    "  #Storing the final eigenfunction and eigenvalue\n",
    "  dic[1] = copy.deepcopy(NN)\n",
    "\n",
    "\n",
    "  ftime = time.time()\n",
    "  ttime = (ftime - stime)/60\n",
    "  print(f'Total training time is {ttime} minutes')\n",
    "  return loss_dic, np.array(En_history), dic"
   ]
  },
  {
   "cell_type": "code",
   "execution_count": 25,
   "metadata": {},
   "outputs": [
    {
     "data": {
      "text/plain": [
       "torch.Size([1000, 1])"
      ]
     },
     "execution_count": 25,
     "metadata": {},
     "output_type": "execute_result"
    }
   ],
   "source": [
    "x_lhs = torch.tensor(t0 + (tf - t0)*lhs(1,col_pts)).view(-1,1).float()\n",
    "x_lhs.shape"
   ]
  },
  {
   "cell_type": "code",
   "execution_count": 26,
   "metadata": {},
   "outputs": [
    {
     "name": "stdout",
     "output_type": "stream",
     "text": [
      "--------------------------------------------\n",
      "Epoch: 0\n",
      "En: [2.3361485 2.292255  2.2167523]\n",
      "--------------------------------------------\n",
      "Total_loss:  185.63214\n",
      "--------------------------------------------\n",
      "Epoch: 200\n",
      "En: [0.86031175 1.7873698  1.7881994 ]\n",
      "--------------------------------------------\n",
      "Total_loss:  68.01498\n",
      "--------------------------------------------\n",
      "Epoch: 400\n",
      "En: [0.9521572 1.1961843 1.4962564]\n",
      "--------------------------------------------\n",
      "Total_loss:  46.970512\n",
      "--------------------------------------------\n",
      "Epoch: 600\n",
      "En: [0.84299624 0.78115803 1.499225  ]\n",
      "--------------------------------------------\n",
      "Total_loss:  43.51487\n",
      "--------------------------------------------\n",
      "Epoch: 800\n",
      "En: [2.9826941  0.62047285 1.9525397 ]\n",
      "--------------------------------------------\n",
      "Total_loss:  18.39899\n",
      "--------------------------------------------\n",
      "Epoch: 1000\n",
      "En: [2.8198845  0.59467244 2.370286  ]\n",
      "--------------------------------------------\n",
      "Total_loss:  23.929638\n",
      "--------------------------------------------\n",
      "Epoch: 1200\n",
      "En: [2.2991586 0.8445009 1.8416443]\n",
      "--------------------------------------------\n",
      "Total_loss:  27.276571\n",
      "--------------------------------------------\n",
      "Epoch: 1400\n",
      "En: [2.0142894 1.5241972 2.7103715]\n",
      "--------------------------------------------\n",
      "Total_loss:  20.514317\n",
      "--------------------------------------------\n",
      "Epoch: 1600\n",
      "En: [0.7390295 2.9049714 2.0370467]\n",
      "--------------------------------------------\n",
      "Total_loss:  7.9820175\n",
      "--------------------------------------------\n",
      "Epoch: 1800\n",
      "En: [0.6241129 2.8425725 2.2172768]\n",
      "--------------------------------------------\n",
      "Total_loss:  11.773741\n",
      "--------------------------------------------\n",
      "Epoch: 2000\n",
      "En: [0.5683433 3.028993  2.069835 ]\n",
      "--------------------------------------------\n",
      "Total_loss:  8.016601\n",
      "--------------------------------------------\n",
      "Epoch: 2200\n",
      "En: [0.5558674 2.0884192 2.7232497]\n",
      "--------------------------------------------\n",
      "Total_loss:  9.915787\n",
      "--------------------------------------------\n",
      "Epoch: 2400\n",
      "En: [0.6617736 1.9296677 3.1487505]\n",
      "--------------------------------------------\n",
      "Total_loss:  3.721269\n",
      "--------------------------------------------\n",
      "Epoch: 2600\n",
      "En: [0.55505115 2.770822   2.31641   ]\n",
      "--------------------------------------------\n",
      "Total_loss:  3.2351239\n",
      "--------------------------------------------\n",
      "Epoch: 2800\n",
      "En: [0.5242372 2.35596   2.872566 ]\n",
      "--------------------------------------------\n",
      "Total_loss:  5.0953074\n",
      "--------------------------------------------\n",
      "Epoch: 3000\n",
      "En: [0.53768367 2.5114625  2.7756665 ]\n",
      "--------------------------------------------\n",
      "Total_loss:  6.4341435\n",
      "--------------------------------------------\n",
      "Epoch: 3200\n",
      "En: [0.5221758 2.7049482 2.8107452]\n",
      "--------------------------------------------\n",
      "Total_loss:  6.8202\n",
      "--------------------------------------------\n",
      "Epoch: 3400\n",
      "En: [0.5412649 2.3590674 2.9835794]\n",
      "--------------------------------------------\n",
      "Total_loss:  4.386243\n",
      "--------------------------------------------\n",
      "Epoch: 3600\n",
      "En: [0.54723626 2.6999352  2.691742  ]\n",
      "--------------------------------------------\n",
      "Total_loss:  3.830801\n",
      "--------------------------------------------\n",
      "Epoch: 3800\n",
      "En: [0.5861796 2.6553428 2.6827123]\n",
      "--------------------------------------------\n",
      "Total_loss:  1.9007325\n",
      "--------------------------------------------\n",
      "Epoch: 4000\n",
      "En: [0.63511306 2.3284633  2.7081618 ]\n",
      "--------------------------------------------\n",
      "Total_loss:  1.130974\n",
      "--------------------------------------------\n",
      "Epoch: 4200\n",
      "En: [0.56348   2.6129491 2.5193136]\n",
      "--------------------------------------------\n",
      "Total_loss:  4.4861917\n",
      "--------------------------------------------\n",
      "Epoch: 4400\n",
      "En: [0.5263495 2.5198047 2.767137 ]\n",
      "--------------------------------------------\n",
      "Total_loss:  4.3386297\n",
      "--------------------------------------------\n",
      "Epoch: 4600\n",
      "En: [0.56315833 2.692049   2.6202822 ]\n",
      "--------------------------------------------\n",
      "Total_loss:  4.278946\n",
      "--------------------------------------------\n",
      "Epoch: 4800\n",
      "En: [0.5786272 2.3776522 2.956902 ]\n",
      "--------------------------------------------\n",
      "Total_loss:  3.7990556\n",
      "--------------------------------------------\n",
      "Epoch: 5000\n",
      "En: [0.5129541 2.4966552 2.6839337]\n",
      "--------------------------------------------\n",
      "Total_loss:  2.9630766\n",
      "--------------------------------------------\n",
      "Epoch: 5200\n",
      "En: [0.6405809 2.7711332 2.2828875]\n",
      "--------------------------------------------\n",
      "Total_loss:  2.7474627\n",
      "--------------------------------------------\n",
      "Epoch: 5400\n",
      "En: [0.57298994 2.8156545  2.3336906 ]\n",
      "--------------------------------------------\n",
      "Total_loss:  3.2302516\n",
      "--------------------------------------------\n",
      "Epoch: 5600\n",
      "En: [0.5048507 2.9190366 2.3469703]\n",
      "--------------------------------------------\n",
      "Total_loss:  2.9755325\n",
      "--------------------------------------------\n",
      "Epoch: 5800\n",
      "En: [0.53717154 2.856256   2.3622715 ]\n",
      "--------------------------------------------\n",
      "Total_loss:  2.4176977\n",
      "--------------------------------------------\n",
      "Epoch: 6000\n",
      "En: [0.5077526 2.8912063 2.334078 ]\n",
      "--------------------------------------------\n",
      "Total_loss:  2.3843355\n",
      "--------------------------------------------\n",
      "Epoch: 6200\n",
      "En: [0.5431651 2.9295433 2.34274  ]\n",
      "--------------------------------------------\n",
      "Total_loss:  1.9358451\n",
      "--------------------------------------------\n",
      "Epoch: 6400\n",
      "En: [0.5181009 2.7541494 2.3929205]\n",
      "--------------------------------------------\n",
      "Total_loss:  1.5907227\n",
      "--------------------------------------------\n",
      "Epoch: 6600\n",
      "En: [0.516156  2.920076  2.3685157]\n",
      "--------------------------------------------\n",
      "Total_loss:  2.1332588\n",
      "--------------------------------------------\n",
      "Epoch: 6800\n",
      "En: [0.54094565 2.868594   2.3311646 ]\n",
      "--------------------------------------------\n",
      "Total_loss:  1.6452677\n",
      "--------------------------------------------\n",
      "Epoch: 7000\n",
      "En: [0.52642727 2.8655653  2.3360932 ]\n",
      "--------------------------------------------\n",
      "Total_loss:  1.6205146\n",
      "--------------------------------------------\n",
      "Epoch: 7200\n",
      "En: [0.52412695 2.8114574  2.4491725 ]\n",
      "--------------------------------------------\n",
      "Total_loss:  1.310115\n",
      "--------------------------------------------\n",
      "Epoch: 7400\n",
      "En: [0.52906424 2.684176   2.5044742 ]\n",
      "--------------------------------------------\n",
      "Total_loss:  0.75281006\n",
      "--------------------------------------------\n",
      "Epoch: 7600\n",
      "En: [0.5258256 2.790878  2.4812195]\n",
      "--------------------------------------------\n",
      "Total_loss:  1.428176\n",
      "--------------------------------------------\n",
      "Epoch: 7800\n",
      "En: [0.5169723 2.74856   2.5037723]\n",
      "--------------------------------------------\n",
      "Total_loss:  1.2237841\n",
      "--------------------------------------------\n",
      "Epoch: 8000\n",
      "En: [0.5302632 2.6811845 2.6049964]\n",
      "--------------------------------------------\n",
      "Total_loss:  0.7012768\n",
      "--------------------------------------------\n",
      "Epoch: 8200\n",
      "En: [0.53275543 2.6245866  2.7365305 ]\n",
      "--------------------------------------------\n",
      "Total_loss:  1.5149789\n",
      "--------------------------------------------\n",
      "Epoch: 8400\n",
      "En: [0.5199332 2.548535  2.7197075]\n",
      "--------------------------------------------\n",
      "Total_loss:  1.3009231\n",
      "--------------------------------------------\n",
      "Epoch: 8600\n",
      "En: [0.55552566 2.472697   2.745689  ]\n",
      "--------------------------------------------\n",
      "Total_loss:  0.56608635\n",
      "--------------------------------------------\n",
      "Epoch: 8800\n",
      "En: [0.516571  2.4565146 2.796966 ]\n",
      "--------------------------------------------\n",
      "Total_loss:  1.0690739\n",
      "--------------------------------------------\n",
      "Epoch: 9000\n",
      "En: [0.5469609 2.4081697 2.8984222]\n",
      "--------------------------------------------\n",
      "Total_loss:  0.9207922\n",
      "--------------------------------------------\n",
      "Epoch: 9200\n",
      "En: [0.53459847 2.39726    2.9029534 ]\n",
      "--------------------------------------------\n",
      "Total_loss:  1.490339\n",
      "--------------------------------------------\n",
      "Epoch: 9400\n",
      "En: [0.5231332 2.3826509 2.8374608]\n",
      "--------------------------------------------\n",
      "Total_loss:  0.9493186\n",
      "--------------------------------------------\n",
      "Epoch: 9600\n",
      "En: [0.5456909 2.4723847 2.8258333]\n",
      "--------------------------------------------\n",
      "Total_loss:  0.44537902\n",
      "--------------------------------------------\n",
      "Epoch: 9800\n",
      "En: [0.50805324 2.4346437  2.8619177 ]\n",
      "--------------------------------------------\n",
      "Total_loss:  0.58969355\n",
      "--------------------------------------------\n",
      "Epoch: 10000\n",
      "En: [0.532692  2.4596844 2.7869642]\n",
      "--------------------------------------------\n",
      "Total_loss:  1.025601\n",
      "Total training time is 5.569306449095408 minutes\n"
     ]
    }
   ],
   "source": [
    "Loss, eig_vals, qPINN = nn_train(model,t0,tf,xbc,col_pts,epochs, x_lhs)"
   ]
  },
  {
   "cell_type": "code",
   "execution_count": 27,
   "metadata": {},
   "outputs": [],
   "source": [
    "tTest = torch.linspace(t0,tf,1200).view(-1,1)\n",
    "tTest.requires_grad=True\n",
    "t_net = tTest.detach().numpy()\n",
    "\n",
    "psi = parametricSolutions(tTest,qPINN[1].cpu(),t0,tf,xbc).data.numpy()"
   ]
  },
  {
   "cell_type": "code",
   "execution_count": 28,
   "metadata": {},
   "outputs": [
    {
     "name": "stderr",
     "output_type": "stream",
     "text": [
      "<>:23: SyntaxWarning: invalid escape sequence '\\p'\n",
      "<>:23: SyntaxWarning: invalid escape sequence '\\p'\n",
      "C:\\Users\\idris_oduola\\AppData\\Local\\Temp\\ipykernel_27252\\392424421.py:23: SyntaxWarning: invalid escape sequence '\\p'\n",
      "  ax.set_ylabel('$\\psi(x)$', color='black')\n"
     ]
    },
    {
     "data": {
      "image/png": "[encoded data removed]",
      "text/plain": [
       "<Figure size 1500x1200 with 3 Axes>"
      ]
     },
     "metadata": {},
     "output_type": "display_data"
    }
   ],
   "source": [
    "#Defining the number of rows and columns for the subplot grid\n",
    "num_rows = 2\n",
    "num_cols = 3\n",
    "\n",
    "# Calculating the total number of subplots needed\n",
    "total_subplots = eig_vals[-1].shape[0]\n",
    "\n",
    "# Creating a figure and axes for the subplots\n",
    "fig, axes = plt.subplots(num_rows, num_cols, figsize=(15, 12))\n",
    "\n",
    "# Iterating over eigenvalues and corresponding solutions\n",
    "for index, eig in enumerate(eig_vals[-1,:total_subplots]):\n",
    "    row_index = index // num_cols  # row index\n",
    "    col_index = index % num_cols   # column index\n",
    "\n",
    "    # Plot on the corresponding subplot\n",
    "    #psi_i = psi[index] + En_counter[index]\n",
    "    ax = axes[row_index, col_index]\n",
    "    ax.plot(t_net, psi[:,index], color='blue', linewidth=1, label=f'PINN with eigenvalue {eig_vals[-1,index]:.5f}')\n",
    "    #ax.plot(t_net, V(torch.tensor(t_net)))\n",
    "    #ax.plot(t_net, np.zeros(len(t_net)),'--k', linewidth=1)\n",
    "    ax.set_xlabel('x', color='black')\n",
    "    ax.set_ylabel('$\\psi(x)$', color='black')\n",
    "    ax.tick_params(axis='y', color='black')\n",
    "    ax.legend(loc = 'upper left')\n",
    "\n",
    "# Hiding the unused subplot\n",
    "if total_subplots < num_rows * num_cols:\n",
    "    for i in range(total_subplots, num_rows * num_cols):\n",
    "        fig.delaxes(axes.flat[i])\n",
    "# Adjusting layout to prevent overlap\n",
    "plt.tight_layout()\n",
    "\n",
    "plt.show()"
   ]
  },
  {
   "cell_type": "code",
   "execution_count": 275,
   "metadata": {},
   "outputs": [
    {
     "data": {
      "text/plain": [
       "array([[ 0.01362427, -0.01099022,  0.06816098],\n",
       "       [-0.01099022,  0.08165582, -0.29581645],\n",
       "       [ 0.06816098, -0.29581645,  1.1517568 ]], dtype=float32)"
      ]
     },
     "execution_count": 275,
     "metadata": {},
     "output_type": "execute_result"
    }
   ],
   "source": [
    "G = psi.T @ psi\n",
    "G"
   ]
  },
  {
   "cell_type": "code",
   "execution_count": 276,
   "metadata": {},
   "outputs": [
    {
     "ename": "SyntaxError",
     "evalue": "invalid syntax (2174670129.py, line 1)",
     "output_type": "error",
     "traceback": [
      "\u001b[1;36m  Cell \u001b[1;32mIn[276], line 1\u001b[1;36m\u001b[0m\n\u001b[1;33m    np.linalg.pinv(G)@\u001b[0m\n\u001b[1;37m                      ^\u001b[0m\n\u001b[1;31mSyntaxError\u001b[0m\u001b[1;31m:\u001b[0m invalid syntax\n"
     ]
    }
   ],
   "source": [
    "np.linalg.pinv(G)@"
   ]
  },
  {
   "cell_type": "code",
   "execution_count": null,
   "metadata": {},
   "outputs": [],
   "source": []
  }
 ],
 "metadata": {
  "kaggle": {
   "accelerator": "none",
   "dataSources": [],
   "dockerImageVersionId": 30919,
   "isGpuEnabled": false,
   "isInternetEnabled": true,
   "language": "python",
   "sourceType": "notebook"
  },
  "kernelspec": {
   "display_name": "venv",
   "language": "python",
   "name": "python3"
  },
  "language_info": {
   "codemirror_mode": {
    "name": "ipython",
    "version": 3
   },
   "file_extension": ".py",
   "mimetype": "text/x-python",
   "name": "python",
   "nbconvert_exporter": "python",
   "pygments_lexer": "ipython3",
   "version": "3.13.3"
  }
 },
 "nbformat": 4,
 "nbformat_minor": 4
}
